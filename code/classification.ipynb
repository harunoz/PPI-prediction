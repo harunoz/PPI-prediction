{
 "cells": [
  {
   "cell_type": "code",
   "execution_count": 5,
   "metadata": {},
   "outputs": [
    {
     "data": {
      "text/plain": [
       "3525"
      ]
     },
     "execution_count": 5,
     "metadata": {},
     "output_type": "execute_result"
    }
   ],
   "source": [
    "import pandas as pd\n",
    "import numpy as np\n",
    "data = pd.read_csv('classificationData.csv')\n",
    "data.head(5)\n",
    "len(data)"
   ]
  },
  {
   "cell_type": "code",
   "execution_count": 6,
   "metadata": {},
   "outputs": [],
   "source": [
    "# df is the DataFrame, and column_list is a list of columns as strings (e.g [\"col1\",\"col2\",\"col3\"])\n",
    "def seperateNumeric(df, column_list):\n",
    "    df[column_list] = df[column_list].apply(pd.to_numeric, errors='coerce')"
   ]
  },
  {
   "cell_type": "code",
   "execution_count": 7,
   "metadata": {},
   "outputs": [],
   "source": [
    "columns= data.columns\n",
    "seperateNumeric(data,columns)"
   ]
  },
  {
   "cell_type": "code",
   "execution_count": 8,
   "metadata": {},
   "outputs": [
    {
     "name": "stdout",
     "output_type": "stream",
     "text": [
      "Number of Mutation in Target Data which Effect the Mutation:  2171\n",
      "Number of Mutation in Target Data which  Does Not Effect the Mutation:  1354\n"
     ]
    }
   ],
   "source": [
    "data=data.fillna(data.mean())\n",
    "data=data.dropna(axis=1, how='all')\n",
    "# Specify the features of interest\n",
    "features = ['Template_sequence_identity', 'Alignment_score',\n",
    "       'Interactor_template_sequence_identity', 'Interactor_alignment_score',\n",
    "       'Model/DOPE_score', 'Matrix_score', 'Solvent_accessibility_wt',\n",
    "       'Solvent_accessibility_mut', 'pcv_salt_equal_wt',\n",
    "       'pcv_salt_opposite_wt', 'pcv_hbond_wt', 'pcv_vdW_wt',\n",
    "       'pcv_salt_equal_mut', 'pcv_salt_opposite_mut', 'pcv_hbond_mut',\n",
    "       'pcv_vdW_mut', 'pcv_salt_equal_self_wt', 'pcv_salt_opposite_self_wt',\n",
    "       'pcv_hbond_self_wt', 'pcv_vdW_self_wt', 'pcv_salt_equal_self_mut',\n",
    "       'pcv_salt_opposite_self_mut', 'pcv_hbond_self_mut', 'pcv_vdW_self_mut',\n",
    "       'dg_wt', 'backbone_hbond_wt', 'sidechain_hbond_wt', 'van_der_waals_wt',\n",
    "       'electrostatics_wt', 'solvation_polar_wt', 'solvation_hydrophobic_wt',\n",
    "       'van_der_waals_clashes_wt', 'entropy_sidechain_wt',\n",
    "       'entropy_mainchain_wt', 'sloop_entropy_wt', 'mloop_entropy_wt',\n",
    "       'cis_bond_wt', 'torsional_clash_wt', 'backbone_clash_wt',\n",
    "       'helix_dipole_wt', 'water_bridge_wt', 'disulfide_wt',\n",
    "       'electrostatic_kon_wt', 'partial_covalent_bonds_wt',\n",
    "       'energy_ionisation_wt', 'entropy_complex_wt', 'number_of_residues_wt',\n",
    "       'dg_mut', 'backbone_hbond_mut', 'sidechain_hbond_mut',\n",
    "       'van_der_waals_mut', 'electrostatics_mut', 'solvation_polar_mut',\n",
    "       'solvation_hydrophobic_mut', 'van_der_waals_clashes_mut',\n",
    "       'entropy_sidechain_mut', 'entropy_mainchain_mut', 'sloop_entropy_mut',\n",
    "       'mloop_entropy_mut', 'cis_bond_mut', 'torsional_clash_mut',\n",
    "       'backbone_clash_mut', 'helix_dipole_mut', 'water_bridge_mut',\n",
    "       'disulfide_mut', 'electrostatic_kon_mut', 'partial_covalent_bonds_mut',\n",
    "       'energy_ionisation_mut', 'entropy_complex_mut',\n",
    "       'number_of_residues_mut', 'IntraclashesEnergy1_wt',\n",
    "       'IntraclashesEnergy1_mut', 'IntraclashesEnergy2_wt',\n",
    "       'IntraclashesEnergy2_mut', 'Interface_contact_distance_wt',\n",
    "       'Interface_contact_distance_mut']\n",
    "# Extract the instances and target\n",
    "x = data[features]\n",
    "y = data.iloc[:,2:3:]\n",
    "count = 0\n",
    "count1=0\n",
    "for k in data.feature_type:\n",
    "    if k==0:\n",
    "        count=count+1\n",
    "    if k==1:\n",
    "        count1=count1+1\n",
    "print('Number of Mutation in Target Data which Effect the Mutation: ',count)\n",
    "print('Number of Mutation in Target Data which  Does Not Effect the Mutation: ', count1)"
   ]
  },
  {
   "cell_type": "code",
   "execution_count": 12,
   "metadata": {},
   "outputs": [
    {
     "name": "stderr",
     "output_type": "stream",
     "text": [
      "/Users/harun/anaconda3/lib/python3.7/site-packages/sklearn/model_selection/_validation.py:514: DataConversionWarning: A column-vector y was passed when a 1d array was expected. Please change the shape of y to (n_samples,), for example using ravel().\n",
      "  estimator.fit(X_train, y_train, **fit_params)\n",
      "/Users/harun/anaconda3/lib/python3.7/site-packages/sklearn/model_selection/_validation.py:514: DataConversionWarning: A column-vector y was passed when a 1d array was expected. Please change the shape of y to (n_samples,), for example using ravel().\n",
      "  estimator.fit(X_train, y_train, **fit_params)\n",
      "/Users/harun/anaconda3/lib/python3.7/site-packages/sklearn/model_selection/_validation.py:514: DataConversionWarning: A column-vector y was passed when a 1d array was expected. Please change the shape of y to (n_samples,), for example using ravel().\n",
      "  estimator.fit(X_train, y_train, **fit_params)\n",
      "/Users/harun/anaconda3/lib/python3.7/site-packages/sklearn/model_selection/_validation.py:514: DataConversionWarning: A column-vector y was passed when a 1d array was expected. Please change the shape of y to (n_samples,), for example using ravel().\n",
      "  estimator.fit(X_train, y_train, **fit_params)\n",
      "/Users/harun/anaconda3/lib/python3.7/site-packages/sklearn/model_selection/_validation.py:514: DataConversionWarning: A column-vector y was passed when a 1d array was expected. Please change the shape of y to (n_samples,), for example using ravel().\n",
      "  estimator.fit(X_train, y_train, **fit_params)\n",
      "/Users/harun/anaconda3/lib/python3.7/site-packages/sklearn/model_selection/_validation.py:514: DataConversionWarning: A column-vector y was passed when a 1d array was expected. Please change the shape of y to (n_samples,), for example using ravel().\n",
      "  estimator.fit(X_train, y_train, **fit_params)\n",
      "/Users/harun/anaconda3/lib/python3.7/site-packages/sklearn/model_selection/_validation.py:514: DataConversionWarning: A column-vector y was passed when a 1d array was expected. Please change the shape of y to (n_samples,), for example using ravel().\n",
      "  estimator.fit(X_train, y_train, **fit_params)\n",
      "/Users/harun/anaconda3/lib/python3.7/site-packages/sklearn/model_selection/_validation.py:514: DataConversionWarning: A column-vector y was passed when a 1d array was expected. Please change the shape of y to (n_samples,), for example using ravel().\n",
      "  estimator.fit(X_train, y_train, **fit_params)\n",
      "/Users/harun/anaconda3/lib/python3.7/site-packages/sklearn/model_selection/_validation.py:514: DataConversionWarning: A column-vector y was passed when a 1d array was expected. Please change the shape of y to (n_samples,), for example using ravel().\n",
      "  estimator.fit(X_train, y_train, **fit_params)\n",
      "/Users/harun/anaconda3/lib/python3.7/site-packages/sklearn/model_selection/_validation.py:514: DataConversionWarning: A column-vector y was passed when a 1d array was expected. Please change the shape of y to (n_samples,), for example using ravel().\n",
      "  estimator.fit(X_train, y_train, **fit_params)\n"
     ]
    },
    {
     "data": {
      "image/png": "[encoded data removed]",
      "text/plain": [
       "<Figure size 576x396 with 1 Axes>"
      ]
     },
     "metadata": {},
     "output_type": "display_data"
    }
   ],
   "source": [
    "%matplotlib inline\n",
    "import pandas as pd\n",
    "import matplotlib.pyplot as plt\n",
    "from sklearn.naive_bayes import MultinomialNB\n",
    "from sklearn.model_selection import StratifiedShuffleSplit\n",
    "from sklearn.ensemble import RandomForestClassifier\n",
    "from yellowbrick.model_selection import CVScores\n",
    "# Create a new figure and axes\n",
    "_, ax = plt.subplots()\n",
    "cv= StratifiedShuffleSplit(n_splits=10, test_size=0.30)\n",
    "# Create the cv score visualizer\n",
    "oz = CVScores(\n",
    "    RandomForestClassifier(n_estimators=100,max_depth=20), ax=ax, cv=cv, scoring='f1_weighted'\n",
    ")\n",
    "\n",
    "oz.fit(x, y)\n",
    "oz.poof()"
   ]
  },
  {
   "cell_type": "code",
   "execution_count": 13,
   "metadata": {},
   "outputs": [],
   "source": [
    "from sklearn.model_selection import train_test_split\n",
    "x_train, x_test,y_train,y_test = train_test_split(x,y,test_size=0.30)\n",
    "from sklearn.preprocessing import StandardScaler\n",
    "sc = StandardScaler()\n",
    "X_train = sc.fit_transform(x_train)\n",
    "X_test = sc.transform(x_test)"
   ]
  },
  {
   "cell_type": "code",
   "execution_count": 14,
   "metadata": {},
   "outputs": [
    {
     "name": "stderr",
     "output_type": "stream",
     "text": [
      "/Users/harun/anaconda3/lib/python3.7/site-packages/ipykernel_launcher.py:3: DataConversionWarning: A column-vector y was passed when a 1d array was expected. Please change the shape of y to (n_samples,), for example using ravel().\n",
      "  This is separate from the ipykernel package so we can avoid doing imports until\n"
     ]
    },
    {
     "data": {
      "text/plain": [
       "0.8770140857900911"
      ]
     },
     "execution_count": 14,
     "metadata": {},
     "output_type": "execute_result"
    }
   ],
   "source": [
    "from sklearn.ensemble import RandomForestClassifier\n",
    "rfc = RandomForestClassifier(n_estimators=220,max_depth=20)\n",
    "rfc.fit(X_train,y_train)\n",
    "y_pred = rfc.predict(X_test)\n",
    "from sklearn.metrics import accuracy_score\n",
    "from sklearn.metrics import roc_auc_score\n",
    "roc_auc_score(y_test, y_pred)"
   ]
  },
  {
   "cell_type": "code",
   "execution_count": 15,
   "metadata": {},
   "outputs": [],
   "source": [
    "from sklearn.metrics import classification_report\n",
    "from sklearn.model_selection import train_test_split\n",
    "from sklearn.ensemble import RandomForestClassifier\n",
    "from sklearn.datasets import make_classification\n",
    "\n",
    "X, y = make_classification(n_samples=5000, \n",
    "                           n_informative=5, n_redundant=0, random_state=0, \n",
    "                           shuffle=True)\n",
    "\n",
    "x_train, x_test, y_train, y_test = train_test_split(X, y,test_size=0.30)\n",
    "from sklearn.preprocessing import StandardScaler\n",
    "\n",
    "sc = StandardScaler()\n",
    "X_train = sc.fit_transform(x_train)\n",
    "X_test = sc.transform(x_test)\n"
   ]
  },
  {
   "cell_type": "code",
   "execution_count": 16,
   "metadata": {},
   "outputs": [
    {
     "data": {
      "text/plain": [
       "0.9366666666666666"
      ]
     },
     "execution_count": 16,
     "metadata": {},
     "output_type": "execute_result"
    }
   ],
   "source": [
    "from sklearn.ensemble import RandomForestClassifier  # parameters\n",
    "rfc =RandomForestClassifier(bootstrap=False, class_weight='balanced',  #Additinal parameters\n",
    "            criterion='entropy', max_depth=14,\n",
    "            max_leaf_nodes=None, min_impurity_decrease=0.0,\n",
    "            min_impurity_split=None, min_samples_leaf=2,\n",
    "            min_samples_split=8, min_weight_fraction_leaf=0.0,\n",
    "            n_estimators=34, n_jobs=None, oob_score=False,\n",
    "            random_state=None, verbose=0, warm_start=False)\n",
    "rfc.fit(X_train,y_train)\n",
    "y_pred = rfc.predict(X_test)\n",
    "from sklearn.metrics import accuracy_score\n",
    "from sklearn.metrics import roc_auc_score\n",
    "#roc_auc_score(y_test, y_pred)\n",
    "accuracy_score(y_test,y_pred)\n"
   ]
  },
  {
   "cell_type": "code",
   "execution_count": 17,
   "metadata": {},
   "outputs": [
    {
     "data": {
      "text/plain": [
       "0.9353333333333333"
      ]
     },
     "execution_count": 17,
     "metadata": {},
     "output_type": "execute_result"
    }
   ],
   "source": [
    "from sklearn.ensemble import RandomForestClassifier  # parameters\n",
    "rfc =RandomForestClassifier(bootstrap=False, class_weight='balanced',  #Additinal parameters\n",
    "            criterion='entropy', max_depth=14,\n",
    "            max_leaf_nodes=None, min_impurity_decrease=0.0,\n",
    "            min_impurity_split=None, min_samples_leaf=2,\n",
    "            min_samples_split=8, min_weight_fraction_leaf=0.0,\n",
    "            n_estimators=34, n_jobs=None, oob_score=False,\n",
    "            random_state=None, verbose=0, warm_start=False)\n",
    "rfc.fit(X_train,y_train)\n",
    "y_pred = rfc.predict(X_test)\n",
    "from sklearn.metrics import accuracy_score\n",
    "from sklearn.metrics import roc_auc_score\n",
    "#roc_auc_score(y_test, y_pred)\n",
    "accuracy_score(y_test,y_pred)\n"
   ]
  },
  {
   "cell_type": "code",
   "execution_count": null,
   "metadata": {},
   "outputs": [],
   "source": []
  },
  {
   "cell_type": "code",
   "execution_count": null,
   "metadata": {},
   "outputs": [],
   "source": []
  }
 ],
 "metadata": {
  "kernelspec": {
   "display_name": "Python 3",
   "language": "python",
   "name": "python3"
  },
  "language_info": {
   "codemirror_mode": {
    "name": "ipython",
    "version": 3
   },
   "file_extension": ".py",
   "mimetype": "text/x-python",
   "name": "python",
   "nbconvert_exporter": "python",
   "pygments_lexer": "ipython3",
   "version": "3.7.3"
  }
 },
 "nbformat": 4,
 "nbformat_minor": 4
}
